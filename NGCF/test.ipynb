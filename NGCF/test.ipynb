{
 "cells": [
  {
   "cell_type": "code",
   "execution_count": 1,
   "metadata": {},
   "outputs": [],
   "source": [
    "import numpy as np \n",
    "from os.path import join\n",
    "from model import NGCF\n",
    "from utils import compute_laplacien"
   ]
  },
  {
   "cell_type": "code",
   "execution_count": 2,
   "metadata": {},
   "outputs": [],
   "source": [
    "data_path =  '/home/yannis/Documents/Recherche/Thèse/code/graph_datasets/gowalla'\n",
    "data_path = '/Users/ykarmim/Documents/Recherche/Thèse/Code/graph_datasets/gowalla'\n",
    "\n",
    "with open(join(data_path,'train.txt')) as f : \n",
    "    lines = [line.rstrip() for line in f]\n"
   ]
  },
  {
   "cell_type": "code",
   "execution_count": 3,
   "metadata": {},
   "outputs": [],
   "source": [
    "L = compute_laplacien(data_path,mode='train')"
   ]
  },
  {
   "cell_type": "code",
   "execution_count": null,
   "metadata": {},
   "outputs": [],
   "source": [
    "ngcf = NGCF(len(L),64)"
   ]
  },
  {
   "cell_type": "code",
   "execution_count": null,
   "metadata": {},
   "outputs": [],
   "source": []
  }
 ],
 "metadata": {
  "interpreter": {
   "hash": "f9565f53f78de71c4002c8f6a5faf96c2a9c9997ad7b42cb44456d725c88c3a0"
  },
  "kernelspec": {
   "display_name": "Python 3.6.12 64-bit ('jul': venv)",
   "language": "python",
   "name": "python3"
  },
  "language_info": {
   "codemirror_mode": {
    "name": "ipython",
    "version": 3
   },
   "file_extension": ".py",
   "mimetype": "text/x-python",
   "name": "python",
   "nbconvert_exporter": "python",
   "pygments_lexer": "ipython3",
   "version": "3.7.0"
  },
  "orig_nbformat": 4
 },
 "nbformat": 4,
 "nbformat_minor": 2
}
