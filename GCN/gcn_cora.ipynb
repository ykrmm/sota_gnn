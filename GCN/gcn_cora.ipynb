{
 "cells": [
  {
   "cell_type": "markdown",
   "metadata": {},
   "source": [
    "# GCN with Pytorch Geometric on Cora Datasets \n",
    "[video Pytorch Geometric](https://www.youtube.com/watch?v=ex2qllcVneY)"
   ]
  },
  {
   "cell_type": "markdown",
   "metadata": {},
   "source": [
    "## Load datasets and library"
   ]
  },
  {
   "cell_type": "code",
   "execution_count": 1,
   "metadata": {},
   "outputs": [],
   "source": [
    "import torch\n",
    "import torch.nn as nn\n",
    "import torch_geometric\n",
    "from torch_geometric.datasets import Planetoid\n",
    "from torch_geometric.transforms import NormalizeFeatures\n",
    "import networkx\n",
    "import matplotlib.pyplot as plt\n",
    "import numpy as np \n"
   ]
  },
  {
   "cell_type": "code",
   "execution_count": 2,
   "metadata": {},
   "outputs": [
    {
     "data": {
      "text/plain": [
       "Cora()"
      ]
     },
     "execution_count": 2,
     "metadata": {},
     "output_type": "execute_result"
    }
   ],
   "source": [
    "dataset = Planetoid(root='data/Planetoid', name='Cora', transform=NormalizeFeatures())\n",
    "dataset"
   ]
  },
  {
   "cell_type": "code",
   "execution_count": 3,
   "metadata": {},
   "outputs": [
    {
     "name": "stdout",
     "output_type": "stream",
     "text": [
      "Number of graphs: 1\n",
      "Number of features: 1433\n",
      "Number of classes: 7\n",
      "==================================================\n",
      "Data(x=[2708, 1433], edge_index=[2, 10556], y=[2708], train_mask=[2708], val_mask=[2708], test_mask=[2708])\n",
      "Number of nodes: 2708\n",
      "Number of edges: 10556\n",
      "Number of training nodes: 140\n",
      "Training node label rate: 0.05\n",
      "Is undirected: True\n"
     ]
    }
   ],
   "source": [
    "# Get some basic info about the dataset\n",
    "print(f'Number of graphs: {len(dataset)}')\n",
    "print(f'Number of features: {dataset.num_features}')\n",
    "print(f'Number of classes: {dataset.num_classes}')\n",
    "print(50*'=')\n",
    "\n",
    "# There is only one graph in the dataset, use it as new data object\n",
    "data = dataset[0]  \n",
    "\n",
    "# Gather some statistics about the graph.\n",
    "print(data)\n",
    "print(f'Number of nodes: {data.num_nodes}')\n",
    "print(f'Number of edges: {data.num_edges}')\n",
    "print(f'Number of training nodes: {data.train_mask.sum()}')\n",
    "print(f'Training node label rate: {int(data.train_mask.sum()) / data.num_nodes:.2f}')\n",
    "print(f'Is undirected: {data.is_undirected()}')"
   ]
  },
  {
   "cell_type": "code",
   "execution_count": 4,
   "metadata": {},
   "outputs": [
    {
     "data": {
      "text/plain": [
       "torch.Size([2708, 1433])"
      ]
     },
     "execution_count": 4,
     "metadata": {},
     "output_type": "execute_result"
    }
   ],
   "source": [
    "data.x.size()"
   ]
  },
  {
   "cell_type": "code",
   "execution_count": 5,
   "metadata": {},
   "outputs": [],
   "source": [
    "G = torch_geometric.utils.to_networkx(data)"
   ]
  },
  {
   "cell_type": "code",
   "execution_count": 6,
   "metadata": {},
   "outputs": [],
   "source": [
    "A = networkx.linalg.adjacency_matrix(G)"
   ]
  },
  {
   "cell_type": "code",
   "execution_count": 7,
   "metadata": {},
   "outputs": [
    {
     "name": "stdout",
     "output_type": "stream",
     "text": [
      "There is 7 classes for the Cora citation dataset\n"
     ]
    }
   ],
   "source": [
    "n_class = len(torch.unique(data.y))\n",
    "print('There is',n_class,'classes for the Cora citation dataset')"
   ]
  },
  {
   "cell_type": "code",
   "execution_count": 8,
   "metadata": {},
   "outputs": [
    {
     "data": {
      "text/plain": [
       "tensor(500)"
      ]
     },
     "execution_count": 8,
     "metadata": {},
     "output_type": "execute_result"
    }
   ],
   "source": [
    "data.val_mask.sum()"
   ]
  },
  {
   "cell_type": "code",
   "execution_count": 9,
   "metadata": {},
   "outputs": [
    {
     "data": {
      "text/plain": [
       "tensor([False, False, False,  ..., False, False, False])"
      ]
     },
     "execution_count": 9,
     "metadata": {},
     "output_type": "execute_result"
    }
   ],
   "source": [
    "data.val_mask"
   ]
  },
  {
   "cell_type": "markdown",
   "metadata": {},
   "source": [
    "## Is MLP sufficient for this task ? \n",
    "First we want to see the performance for a simple 2 layer MLP apply on graph structure data for node classification"
   ]
  },
  {
   "cell_type": "code",
   "execution_count": 10,
   "metadata": {},
   "outputs": [],
   "source": [
    "# Simple MLP\n",
    "\n",
    "class MLP(nn.Module):\n",
    "    def __init__(self,dim_in,dim_h,n_class) -> None:\n",
    "        super(MLP,self).__init__()\n",
    "\n",
    "        \n",
    "        self.linear1 = nn.Linear(dim_in,dim_h)\n",
    "        self.linear2 = nn.Linear(dim_h,40)\n",
    "        self.linear3 = nn.Linear(40,n_class)\n",
    "        self.relu = nn.ReLU()\n",
    "        self.dropout = nn.Dropout(p=0.3)\n",
    "        self.softmax = nn.Softmax(dim=1)\n",
    "\n",
    "    \n",
    "    def forward(self,x):\n",
    "        x = self.linear1(x)\n",
    "        x = self.relu(x)\n",
    "        #x = self.dropout(x)\n",
    "        y = self.linear2(x)\n",
    "        y = self.relu(y)\n",
    "        y = self.linear3(y)\n",
    "        #y = self.softmax(x)\n",
    "\n",
    "        return y\n"
   ]
  },
  {
   "cell_type": "code",
   "execution_count": 11,
   "metadata": {},
   "outputs": [],
   "source": [
    "# implement a simple dataset for the mlp \n",
    "\n",
    "\n",
    "class cora_dataset(torch.utils.data.Dataset):\n",
    "    def __init__(self,data,mode='train'):\n",
    "\n",
    "        if mode =='train':\n",
    "            mask = data.train_mask\n",
    "\n",
    "        elif mode =='val':\n",
    "            mask = data.val_mask\n",
    "        else:\n",
    "            mask = data.test_mask\n",
    "        self.data = data.x[mask] \n",
    "        self.labels = data.y[mask]\n",
    "\n",
    "\n",
    "    def __getitem__(self,index):\n",
    "\n",
    "        return self.data[index],self.labels[index]\n",
    "\n",
    "    def __len__(self):\n",
    "        return len(self.labels)"
   ]
  },
  {
   "cell_type": "code",
   "execution_count": 12,
   "metadata": {},
   "outputs": [],
   "source": [
    "dataset_train = cora_dataset(data,mode='train')\n",
    "dataset_val = cora_dataset(data,mode='val')\n",
    "dataset_test = cora_dataset(data,mode='test')\n",
    "bs = 80\n",
    "train_loader = torch.utils.data.DataLoader(dataset_train,batch_size=bs,shuffle=True)\n",
    "val_loader = torch.utils.data.DataLoader(dataset_val,batch_size=bs,shuffle=True)\n",
    "test_loader = torch.utils.data.DataLoader(dataset_test,batch_size=bs,shuffle=True)"
   ]
  },
  {
   "cell_type": "code",
   "execution_count": 13,
   "metadata": {},
   "outputs": [],
   "source": [
    "learning_rate = 0.01\n",
    "model = MLP(data.x.size()[1],200,n_class)\n",
    "criterion = nn.CrossEntropyLoss()\n",
    "optimizer = torch.optim.Adam(model.parameters(),lr=learning_rate)\n",
    "n_epoch = 60"
   ]
  },
  {
   "cell_type": "code",
   "execution_count": 14,
   "metadata": {},
   "outputs": [
    {
     "name": "stdout",
     "output_type": "stream",
     "text": [
      "EPOCHS: 0\n",
      "Loss train 1.9505767226219177\n",
      "Loss val 1.9276932988848006\n",
      "EPOCHS: 1\n",
      "Loss train 1.9370410442352295\n",
      "Loss val 1.930970243045262\n",
      "EPOCHS: 2\n",
      "Loss train 1.9095973372459412\n",
      "Loss val 1.922567503792899\n",
      "EPOCHS: 3\n",
      "Loss train 1.8618689179420471\n",
      "Loss val 1.9158486468451363\n",
      "EPOCHS: 4\n",
      "Loss train 1.777590811252594\n",
      "Loss val 1.9124318531581335\n",
      "EPOCHS: 5\n",
      "Loss train 1.6585552096366882\n",
      "Loss val 1.9059474127633231\n",
      "EPOCHS: 6\n",
      "Loss train 1.5016416907310486\n",
      "Loss val 1.879953486578805\n",
      "EPOCHS: 7\n",
      "Loss train 1.2900460362434387\n",
      "Loss val 1.835620437349592\n",
      "EPOCHS: 8\n",
      "Loss train 1.0711381435394287\n",
      "Loss val 1.8007461173193795\n",
      "EPOCHS: 9\n",
      "Loss train 0.8314169645309448\n",
      "Loss val 1.7684934820447649\n",
      "EPOCHS: 10\n",
      "Loss train 0.6173416972160339\n",
      "Loss val 1.7538680178778512\n",
      "EPOCHS: 11\n",
      "Loss train 0.4149414896965027\n",
      "Loss val 1.6892957857676916\n",
      "EPOCHS: 12\n",
      "Loss train 0.2554708793759346\n",
      "Loss val 1.6598799739565169\n",
      "EPOCHS: 13\n",
      "Loss train 0.14846189320087433\n",
      "Loss val 1.637626784188407\n",
      "EPOCHS: 14\n",
      "Loss train 0.07723142206668854\n",
      "Loss val 1.6412453992026192\n",
      "EPOCHS: 15\n",
      "Loss train 0.039311423897743225\n",
      "Loss val 1.5881414072854179\n",
      "EPOCHS: 16\n",
      "Loss train 0.020926063880324364\n",
      "Loss val 1.711503539766584\n",
      "EPOCHS: 17\n",
      "Loss train 0.010783566627651453\n",
      "Loss val 1.7341381992612566\n",
      "EPOCHS: 18\n",
      "Loss train 0.005688478937372565\n",
      "Loss val 1.844558835029602\n",
      "EPOCHS: 19\n",
      "Loss train 0.0032022964442148805\n",
      "Loss val 1.9187526873179845\n",
      "EPOCHS: 20\n",
      "Loss train 0.001955400686711073\n",
      "Loss val 1.9758806228637695\n",
      "EPOCHS: 21\n",
      "Loss train 0.0012730035232380033\n",
      "Loss val 2.1181735481534685\n",
      "EPOCHS: 22\n",
      "Loss train 0.0008959154365584254\n",
      "Loss val 2.273007035255432\n",
      "EPOCHS: 23\n",
      "Loss train 0.0006476695707533509\n",
      "Loss val 2.2276131766183034\n",
      "EPOCHS: 24\n",
      "Loss train 0.0004859739710809663\n",
      "Loss val 2.3924537897109985\n",
      "EPOCHS: 25\n",
      "Loss train 0.0003834721283055842\n",
      "Loss val 2.0905346614973888\n",
      "EPOCHS: 26\n",
      "Loss train 0.0003112472331849858\n",
      "Loss val 2.263496381895883\n",
      "EPOCHS: 27\n",
      "Loss train 0.0002665400825208053\n",
      "Loss val 2.252691762787955\n",
      "EPOCHS: 28\n",
      "Loss train 0.00022538029588758945\n",
      "Loss val 2.223684549331665\n",
      "EPOCHS: 29\n",
      "Loss train 0.00019928176334360614\n",
      "Loss val 2.339947530201503\n",
      "EPOCHS: 30\n",
      "Loss train 0.00017740941257216036\n",
      "Loss val 2.4482036658695767\n",
      "EPOCHS: 31\n",
      "Loss train 0.000162756688951049\n",
      "Loss val 2.1842693941933766\n",
      "EPOCHS: 32\n",
      "Loss train 0.0001527153726783581\n",
      "Loss val 2.2996923412595476\n",
      "EPOCHS: 33\n",
      "Loss train 0.00014347376418299973\n",
      "Loss val 2.1900370121002197\n",
      "EPOCHS: 34\n",
      "Loss train 0.00013384011981543154\n",
      "Loss val 2.2283440147127425\n",
      "EPOCHS: 35\n",
      "Loss train 0.0001313855500484351\n",
      "Loss val 2.410361817904881\n",
      "EPOCHS: 36\n",
      "Loss train 0.00012520659583969973\n",
      "Loss val 2.3122715950012207\n",
      "EPOCHS: 37\n",
      "Loss train 0.00012450134454411454\n",
      "Loss val 2.2199600424085344\n",
      "EPOCHS: 38\n",
      "Loss train 0.00011725890362868086\n",
      "Loss val 2.3489422457558766\n",
      "EPOCHS: 39\n",
      "Loss train 0.00011272987831034698\n",
      "Loss val 2.408320222582136\n",
      "EPOCHS: 40\n",
      "Loss train 0.00011150874706800096\n",
      "Loss val 2.2680071081433977\n",
      "EPOCHS: 41\n",
      "Loss train 0.00010872417624341324\n",
      "Loss val 2.3541475193841115\n",
      "EPOCHS: 42\n",
      "Loss train 0.00011011447350028902\n",
      "Loss val 2.3269383226122176\n",
      "EPOCHS: 43\n",
      "Loss train 0.0001059409805748146\n",
      "Loss val 2.337566239493234\n",
      "EPOCHS: 44\n",
      "Loss train 0.00010680934065021574\n",
      "Loss val 2.3926170894077847\n",
      "EPOCHS: 45\n",
      "Loss train 0.00010389576345914975\n",
      "Loss val 2.178670448916299\n",
      "EPOCHS: 46\n",
      "Loss train 0.00010066033792099915\n",
      "Loss val 2.2678463799612865\n",
      "EPOCHS: 47\n",
      "Loss train 0.00010107389243785292\n",
      "Loss val 2.367350493158613\n",
      "EPOCHS: 48\n",
      "Loss train 0.00010065381866297685\n",
      "Loss val 2.252315470150539\n",
      "EPOCHS: 49\n",
      "Loss train 9.925417907652445e-05\n",
      "Loss val 2.2591573681150163\n",
      "EPOCHS: 50\n",
      "Loss train 9.854813106358051e-05\n",
      "Loss val 2.3195986407143727\n",
      "EPOCHS: 51\n",
      "Loss train 9.582622442394495e-05\n",
      "Loss val 2.2386309930256436\n",
      "EPOCHS: 52\n",
      "Loss train 9.643349039833993e-05\n",
      "Loss val 2.4782450199127197\n",
      "EPOCHS: 53\n",
      "Loss train 9.843819498200901e-05\n",
      "Loss val 2.3556602001190186\n",
      "EPOCHS: 54\n",
      "Loss train 9.414794112672098e-05\n",
      "Loss val 2.264125875064305\n",
      "EPOCHS: 55\n",
      "Loss train 9.366961967316456e-05\n",
      "Loss val 2.2919159276144847\n",
      "EPOCHS: 56\n",
      "Loss train 9.381201380165294e-05\n",
      "Loss val 2.4617838859558105\n",
      "EPOCHS: 57\n",
      "Loss train 9.213576049660333e-05\n",
      "Loss val 2.224775109972273\n",
      "EPOCHS: 58\n",
      "Loss train 9.204082743963227e-05\n",
      "Loss val 2.4114400488989696\n",
      "EPOCHS: 59\n",
      "Loss train 9.13617477635853e-05\n",
      "Loss val 2.3231080770492554\n"
     ]
    }
   ],
   "source": [
    "loss_train = []\n",
    "loss_val = []\n",
    "tmp = []\n",
    "for ep in range(n_epoch):\n",
    "    print('EPOCHS:',ep)\n",
    "\n",
    "    for i,(x,y) in enumerate(train_loader):\n",
    "        model.train()\n",
    "        pred = model(x)\n",
    "\n",
    "        loss = criterion(pred,y)\n",
    "\n",
    "        loss.backward()\n",
    "        optimizer.step()\n",
    "        optimizer.zero_grad()\n",
    "        tmp.append(loss.item())\n",
    "\n",
    "    loss_train.append(np.array(tmp).mean())\n",
    "    tmp = []\n",
    "    print('Loss train',loss_train[ep])\n",
    "\n",
    "    for i,(x,y) in enumerate(val_loader):\n",
    "        model.eval()\n",
    "\n",
    "        pred = model(x)\n",
    "\n",
    "        loss = criterion(pred,y)\n",
    "        tmp.append(loss.item())\n",
    "        \n",
    "    loss_val.append(np.array(tmp).mean())\n",
    "    print('Loss val',loss_val[ep])\n",
    "    tmp = []\n"
   ]
  },
  {
   "cell_type": "code",
   "execution_count": 15,
   "metadata": {},
   "outputs": [
    {
     "data": {
      "image/png": "[encoded data removed]",
      "text/plain": [
       "<Figure size 432x288 with 1 Axes>"
      ]
     },
     "metadata": {
      "needs_background": "light"
     },
     "output_type": "display_data"
    }
   ],
   "source": [
    "fig, ax = plt.subplots()\n",
    "ax.plot(np.arange(n_epoch),loss_train, label='Train')\n",
    "ax.plot(np.arange(n_epoch),loss_val, label='Val')\n",
    "ax.legend()\n",
    "ax.grid()"
   ]
  },
  {
   "cell_type": "markdown",
   "metadata": {},
   "source": [
    "The model overfit but is unable to learn efficient parameters for this task. We're forced to exploit the graph structure! "
   ]
  },
  {
   "cell_type": "code",
   "execution_count": 16,
   "metadata": {},
   "outputs": [
    {
     "name": "stdout",
     "output_type": "stream",
     "text": [
      "The model has an accuracy of 46.2 % on test set\n"
     ]
    }
   ],
   "source": [
    "model.eval()\n",
    "pred_test = model(data.x[data.test_mask])\n",
    "softmax = nn.Softmax(dim=1)\n",
    "pred_test = softmax(pred_test)\n",
    "classif = pred_test.argmax(dim=1)\n",
    "acc = ((classif == data.y[data.test_mask]).sum())/1000\n",
    "print('The model has an accuracy of',round(acc.item()*100,3),'% on test set')"
   ]
  },
  {
   "cell_type": "markdown",
   "metadata": {},
   "source": [
    "## Implement a simple GCN with Pytorch Geometric "
   ]
  },
  {
   "cell_type": "code",
   "execution_count": 17,
   "metadata": {},
   "outputs": [],
   "source": [
    "from torch_geometric.nn import GCNConv # importing GCNConv Layer"
   ]
  },
  {
   "cell_type": "code",
   "execution_count": 34,
   "metadata": {},
   "outputs": [],
   "source": [
    "import torch.nn.functional as F\n",
    "class GCN(nn.Module):\n",
    "    def __init__(self,dim_in,dim_h,n_class) -> None:\n",
    "        super(GCN,self).__init__()\n",
    "\n",
    "        self.gcnconv1 = GCNConv(dim_in,dim_h)\n",
    "        self.gcnconv2 = GCNConv(dim_h,n_class)\n",
    "\n",
    "        self.relu = nn.ReLU()\n",
    "        self.dropout = nn.Dropout()\n",
    "\n",
    "    def forward(self,data):\n",
    "        x,edge_index = data.x,data.edge_index\n",
    "        x = self.gcnconv1(x,edge_index)\n",
    "        x = self.relu(x)\n",
    "        x = self.dropout(x)\n",
    "        x = self.gcnconv2(x,edge_index)\n",
    "\n",
    "        return x\n"
   ]
  },
  {
   "cell_type": "code",
   "execution_count": 47,
   "metadata": {},
   "outputs": [],
   "source": [
    "gcn_model = GCN(data.x.size()[1],16,n_class)"
   ]
  },
  {
   "cell_type": "code",
   "execution_count": 48,
   "metadata": {},
   "outputs": [],
   "source": [
    "optimizer = torch.optim.Adam(gcn_model.parameters(), lr=0.01, weight_decay=5e-4)\n",
    "n_epoch = 200\n",
    "criterion = nn.CrossEntropyLoss()\n",
    "loss_train = []\n",
    "loss_val = []\n",
    "acc_train = []\n",
    "acc_val = []\n",
    "for ep in range(n_epoch):\n",
    "    # TRAIN\n",
    "    gcn_model.train()\n",
    "    optimizer.zero_grad()\n",
    "    pred = gcn_model(dataset[0])\n",
    "\n",
    "\n",
    "    loss = criterion(pred[data.train_mask],data.y[data.train_mask])\n",
    "\n",
    "    loss.backward()\n",
    "    optimizer.step()\n",
    "\n",
    "    loss_train.append(loss.item())\n",
    "\n",
    "\n",
    "    \n",
    "    # VAL \n",
    "    gcn_model.eval()\n",
    "\n",
    "    loss = criterion(pred[data.val_mask],data.y[data.val_mask])\n",
    "    loss_val.append(loss.item())\n",
    "\n",
    "    # Compute accuracy\n",
    "    pred = pred.argmax(dim=1)\n",
    "\n",
    "    correct = (pred[data.train_mask] == data.y[data.train_mask]).sum()\n",
    "    acc = int(correct) / int(data.train_mask.sum())\n",
    "    acc_train.append(acc)\n",
    "\n",
    "    \n",
    "    correct = (pred[data.val_mask] == data.y[data.val_mask]).sum()\n",
    "    acc = int(correct) / int(data.val_mask.sum())\n",
    "    acc_val.append(acc)\n"
   ]
  },
  {
   "cell_type": "code",
   "execution_count": 49,
   "metadata": {},
   "outputs": [
    {
     "data": {
      "image/png": "[encoded data removed]",
      "text/plain": [
       "<Figure size 432x288 with 1 Axes>"
      ]
     },
     "metadata": {
      "needs_background": "light"
     },
     "output_type": "display_data"
    }
   ],
   "source": [
    "fig, ax = plt.subplots()\n",
    "ax.plot(np.arange(n_epoch),loss_train, label='Train')\n",
    "ax.plot(np.arange(n_epoch),loss_val, label='Val')\n",
    "ax.legend()\n",
    "ax.grid()"
   ]
  },
  {
   "cell_type": "code",
   "execution_count": 50,
   "metadata": {},
   "outputs": [
    {
     "data": {
      "image/png": "[encoded data removed]",
      "text/plain": [
       "<Figure size 432x288 with 1 Axes>"
      ]
     },
     "metadata": {
      "needs_background": "light"
     },
     "output_type": "display_data"
    }
   ],
   "source": [
    "fig, ax = plt.subplots()\n",
    "ax.plot(np.arange(n_epoch),acc_train, label='Train')\n",
    "ax.plot(np.arange(n_epoch),acc_val, label='Val')\n",
    "ax.legend()\n",
    "ax.grid()"
   ]
  },
  {
   "cell_type": "code",
   "execution_count": 52,
   "metadata": {},
   "outputs": [
    {
     "name": "stdout",
     "output_type": "stream",
     "text": [
      "Accuracy: 80.70 % on test set\n"
     ]
    }
   ],
   "source": [
    "pred = gcn_model(data).argmax(dim=1)\n",
    "correct = (pred[data.test_mask] == data.y[data.test_mask]).sum()\n",
    "acc = int(correct) / int(data.test_mask.sum())\n",
    "print('Accuracy: {:.2f} % on test set'.format(acc*100))"
   ]
  },
  {
   "cell_type": "markdown",
   "metadata": {},
   "source": [
    "It's crucial to use graph structure data to perform on the node classification task"
   ]
  },
  {
   "cell_type": "markdown",
   "metadata": {},
   "source": []
  }
 ],
 "metadata": {
  "interpreter": {
   "hash": "9726085f702dd2305565e09601b35f2c1e28d0640646392857defdbea7e4d927"
  },
  "kernelspec": {
   "display_name": "Python 3.8.8 64-bit",
   "name": "python3"
  },
  "language_info": {
   "codemirror_mode": {
    "name": "ipython",
    "version": 3
   },
   "file_extension": ".py",
   "mimetype": "text/x-python",
   "name": "python",
   "nbconvert_exporter": "python",
   "pygments_lexer": "ipython3",
   "version": "3.8.8"
  },
  "orig_nbformat": 4
 },
 "nbformat": 4,
 "nbformat_minor": 2
}
